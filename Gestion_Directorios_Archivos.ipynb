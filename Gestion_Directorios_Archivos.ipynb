{
 "cells": [
  {
   "cell_type": "markdown",
   "metadata": {},
   "source": [
    "# Consideraciones antes de comenzar a usar líneas de comandos en Python, estas consideraciones aplican para otros lenguajes de programación"
   ]
  },
  {
   "cell_type": "markdown",
   "metadata": {},
   "source": [
    "### <font color = red>Errores de sintaxis</font>\n",
    "\n",
    "**Python sólo puede ejecutar un programa si es correcto sintácticamente, de lo contrario, el proceso falla y devuelve un mensaje de error.**  \n",
    "\n",
    "### <font color = red>La sintaxis se debe a que Python es un lenguaje formal de programación</font>  \n",
    "**Un lenguaje formal es aquel que fue diseñado por el ser humano para aplicaciones específicas, como las matemáticas, la química y la programación.**\n",
    "\n",
    "### <font color = red>Errores semánticos</font>\n",
    "\n",
    "**Si hay un error semántico en su programa, el programa será ejecutado sin ningún mensaje de error, pero el resultado no será el deseado. El programa ejecuta exactamente lo que usted le dijo que ejecutara.**\n",
    "\n",
    "**Identificar errores semánticos es difícil porque requiere trabajar al revés: comenzar por los resultados de salida y tratar de descifrar lo que el programa está realizando.**\n",
    "    "
   ]
  },
  {
   "cell_type": "code",
   "execution_count": null,
   "metadata": {},
   "outputs": [],
   "source": []
  },
  {
   "cell_type": "markdown",
   "metadata": {},
   "source": [
    "# Manejo de directorios y archivos en _Jupyter_"
   ]
  },
  {
   "cell_type": "markdown",
   "metadata": {},
   "source": [
    "### Representación vertical de la jerarquía de directorios\n",
    "<img src=\"https://media.geeksforgeeks.org/wp-content/uploads/111-11.png\" width = 60%>\n",
    "\n",
    "#### Directorio1/Directorio2/Directorio3"
   ]
  },
  {
   "cell_type": "code",
   "execution_count": null,
   "metadata": {},
   "outputs": [],
   "source": []
  },
  {
   "cell_type": "markdown",
   "metadata": {},
   "source": [
    "# Jerarquía de directorios para el curso\n",
    "\n",
    "<img style=\"float: center;\" src=\"https://raw.githubusercontent.com/Bioinformatica2020/Anexos/master/DIRECTORIOS.jpg\" width = 100%> <br>"
   ]
  },
  {
   "cell_type": "code",
   "execution_count": null,
   "metadata": {},
   "outputs": [],
   "source": []
  },
  {
   "cell_type": "markdown",
   "metadata": {},
   "source": [
    "### Algunos comandos básicos de python para la gestión de directorios y archivos"
   ]
  },
  {
   "cell_type": "markdown",
   "metadata": {},
   "source": [
    "|Comandos | acción en Python|\n",
    "|---|---|\n",
    "|`os.listdir()`| muestra los nombre de archivos|\n",
    "|`os.getcwd()` | muestra el directorio actual|\n",
    "|`os.mkdir()`| crear un directorio|\n",
    "|`os.chdir()`| cambio de directorio|\n",
    "|`os.rmdir(path)`| remover un directorio|\n",
    "|`os.remove(path)`|remover un archivo|\n",
    "|`os.path.exists()`| saber si un directorio existe|\n",
    "|`os.path.getsize(path)`| saber el tamaño del directorio|\n",
    "|`shutil.rmtree(path)`|remover un directorio recursivamente|\n",
    "\n",
    "#### Resolver un problema mediante recursión significa que la solución depende de las soluciones de pequeñas instancias del mismo problema."
   ]
  },
  {
   "cell_type": "markdown",
   "metadata": {},
   "source": [
    "### <font color = limegreen>Importar el módulo `os`<font>  \n",
    "La función `os` se usa para manipular la estructura de directorios"
   ]
  },
  {
   "cell_type": "code",
   "execution_count": null,
   "metadata": {},
   "outputs": [],
   "source": [
    "import os"
   ]
  },
  {
   "cell_type": "markdown",
   "metadata": {},
   "source": [
    "### <font color = limegreen>Mostrar el contenido del directorio actual<font>"
   ]
  },
  {
   "cell_type": "code",
   "execution_count": 3,
   "metadata": {},
   "outputs": [
    {
     "data": {
      "text/plain": [
       "['.ipynb_checkpoints',\n",
       " 'Gestion_Directorios_Archivos.ipynb',\n",
       " 'Jupyter.ipynb',\n",
       " 'Markdown_basico.ipynb',\n",
       " 'Variables.ipynb']"
      ]
     },
     "execution_count": 3,
     "metadata": {},
     "output_type": "execute_result"
    }
   ],
   "source": [
    "os.listdir()"
   ]
  },
  {
   "cell_type": "markdown",
   "metadata": {},
   "source": [
    "### <font color = limegreen>Directorio actual<font>"
   ]
  },
  {
   "cell_type": "code",
   "execution_count": 4,
   "metadata": {},
   "outputs": [
    {
     "data": {
      "text/plain": [
       "'C:\\\\Users\\\\pGEN1\\\\Documents\\\\Bioinformatica2020\\\\Introduccion\\\\semana2'"
      ]
     },
     "execution_count": 4,
     "metadata": {},
     "output_type": "execute_result"
    }
   ],
   "source": [
    "os.getcwd() # revisamos el directorio actual"
   ]
  },
  {
   "cell_type": "code",
   "execution_count": null,
   "metadata": {},
   "outputs": [],
   "source": []
  },
  {
   "cell_type": "markdown",
   "metadata": {},
   "source": [
    "### <font color = limegreen>Comprobar si existe un directorio<font>"
   ]
  },
  {
   "cell_type": "code",
   "execution_count": 5,
   "metadata": {},
   "outputs": [
    {
     "data": {
      "text/plain": [
       "False"
      ]
     },
     "execution_count": 5,
     "metadata": {},
     "output_type": "execute_result"
    }
   ],
   "source": [
    "os.path.exists('Bio2020')"
   ]
  },
  {
   "cell_type": "code",
   "execution_count": null,
   "metadata": {},
   "outputs": [],
   "source": [
    "# un ejemplo de condicionales (se verán con detalle posteriormente) \n",
    "if os.path.exists('Bio2020') == True:\n",
    "    print('El dicrectorio existe')\n",
    "else:\n",
    "    print('El directorio no existe')"
   ]
  },
  {
   "cell_type": "markdown",
   "metadata": {},
   "source": [
    "### <font color = limegreen>Cambiar a otro directorio<font>"
   ]
  },
  {
   "cell_type": "code",
   "execution_count": null,
   "metadata": {},
   "outputs": [],
   "source": [
    "os.chdir('Bio2020') # ingresamos a un directorio"
   ]
  },
  {
   "cell_type": "code",
   "execution_count": null,
   "metadata": {},
   "outputs": [],
   "source": [
    "os.getcwd() # revisamos el directorio actual"
   ]
  },
  {
   "cell_type": "markdown",
   "metadata": {},
   "source": [
    "### <font color = limegreen>Regresar al directorio anterior<font>\n",
    "\n",
    "#### Para regresar un directorio usar `../`, para regresar dos directorios usar `../../`"
   ]
  },
  {
   "cell_type": "code",
   "execution_count": null,
   "metadata": {},
   "outputs": [],
   "source": [
    "os.chdir('../') # regresamos un nivel"
   ]
  },
  {
   "cell_type": "code",
   "execution_count": null,
   "metadata": {},
   "outputs": [],
   "source": [
    "os.getcwd() # revisamos el directorio actual"
   ]
  },
  {
   "cell_type": "code",
   "execution_count": null,
   "metadata": {},
   "outputs": [],
   "source": []
  },
  {
   "cell_type": "markdown",
   "metadata": {},
   "source": [
    "### <font color = limegreen>Crear un nuevo directorio<font>\n",
    "\n",
    "#### Recomendaciones al crear directorios y archivos:\n",
    "* No dejar espacios entre palabras\n",
    "* En lugar de espacios usar guión bajo `_`\n",
    "* No usar `ñ` o `Ñ` ni acentos `´`\n",
    "* De preferencia nombres cortos"
   ]
  },
  {
   "cell_type": "code",
   "execution_count": null,
   "metadata": {},
   "outputs": [],
   "source": [
    "os.getcwd() # revisamos el directorio actual"
   ]
  },
  {
   "cell_type": "code",
   "execution_count": null,
   "metadata": {},
   "outputs": [],
   "source": [
    "os.listdir()"
   ]
  },
  {
   "cell_type": "code",
   "execution_count": null,
   "metadata": {},
   "outputs": [],
   "source": [
    "os.mkdir('Bio2020') # creamos un directorio llamado Bio2020"
   ]
  },
  {
   "cell_type": "code",
   "execution_count": null,
   "metadata": {},
   "outputs": [],
   "source": []
  },
  {
   "cell_type": "code",
   "execution_count": null,
   "metadata": {},
   "outputs": [],
   "source": []
  },
  {
   "cell_type": "markdown",
   "metadata": {},
   "source": [
    "# <font color = red>Ejercicio:</font>\n",
    "* ### Crea cuatro directorios más dentro de Bio2020:\n",
    "* ### Para las bitácoras\n",
    "* ### Para las bases de datos\n",
    "* ### Para descargas\n",
    "* ### Para salidas"
   ]
  },
  {
   "cell_type": "code",
   "execution_count": null,
   "metadata": {},
   "outputs": [],
   "source": [
    "os.mkdir('Bio2020/Descargas') # creamos un directorio para Descargas dentro de Bio2020"
   ]
  },
  {
   "cell_type": "code",
   "execution_count": null,
   "metadata": {},
   "outputs": [],
   "source": [
    "os.mkdir('Bio2020/Jupyter') # creamos un directorio para Descargas dentro de Bio2020"
   ]
  },
  {
   "cell_type": "code",
   "execution_count": null,
   "metadata": {},
   "outputs": [],
   "source": []
  },
  {
   "cell_type": "code",
   "execution_count": null,
   "metadata": {},
   "outputs": [],
   "source": [
    "# python -mpip install requests\n",
    "import requests"
   ]
  },
  {
   "cell_type": "markdown",
   "metadata": {},
   "source": [
    "# Copiar y mover archivos\n",
    "### <font color = purple>Antes descargar una imagen para hacer pruebas</font>"
   ]
  },
  {
   "cell_type": "code",
   "execution_count": null,
   "metadata": {},
   "outputs": [],
   "source": [
    "# python -mpip install requests\n",
    "import requests # módulo para hacer solicitudes de información a servidores\n",
    "import urllib.request\n",
    "from urllib.request import urlopen\n",
    "# comando para hacer descarga de archivos, \n",
    "urllib.request.urlretrieve('https://raw.githubusercontent.com/Bioinformatica2020/Anexos/master/imagenes_curso.jpg',\n",
    "                                    'imagenes_curso.jpg')"
   ]
  },
  {
   "cell_type": "code",
   "execution_count": null,
   "metadata": {},
   "outputs": [],
   "source": []
  },
  {
   "cell_type": "markdown",
   "metadata": {},
   "source": [
    "### <font color = limegreen>Importar el módulo `shutil`</font>  \n",
    "El módulo `shutil` incluye operaciones de archivos de alto nivel como copiar y archivar."
   ]
  },
  {
   "cell_type": "code",
   "execution_count": null,
   "metadata": {},
   "outputs": [],
   "source": [
    "import shutil"
   ]
  },
  {
   "cell_type": "markdown",
   "metadata": {},
   "source": [
    "### <font color = limegreen>Copiar un archivo de un directorio a otro</font>  \n",
    "shutil.copy(`\"archivo_original\"`, `\"destino\"`)"
   ]
  },
  {
   "cell_type": "code",
   "execution_count": null,
   "metadata": {},
   "outputs": [],
   "source": [
    "shutil.copy(\"imagenes_curso.jpg\", \"Bio2020/Descargas/\") # copiar el archivo al directorio Descargas"
   ]
  },
  {
   "cell_type": "markdown",
   "metadata": {},
   "source": [
    "### <font color = limegreen>Mover un archivo de un directorio a otro</font> \n",
    "shutil.move(`\"ubicación_actual\"`, `\"destino\"`)"
   ]
  },
  {
   "cell_type": "code",
   "execution_count": null,
   "metadata": {},
   "outputs": [],
   "source": [
    "shutil.move(\"Bio2020/Descargas/imagenes_curso.jpg\", \"Bio2020/Jupyter/imagenes_curso.jpg\") # mover el archivo .png a otro directorio"
   ]
  },
  {
   "cell_type": "code",
   "execution_count": null,
   "metadata": {},
   "outputs": [],
   "source": [
    "os.listdir() # ya no está logo_jupyter.png"
   ]
  },
  {
   "cell_type": "code",
   "execution_count": null,
   "metadata": {},
   "outputs": [],
   "source": []
  },
  {
   "cell_type": "markdown",
   "metadata": {},
   "source": [
    "### <font color = limegreen>Eliminar directorios</font>"
   ]
  },
  {
   "cell_type": "code",
   "execution_count": null,
   "metadata": {},
   "outputs": [],
   "source": [
    "#os.rmdir('Descargas') # si el directorio no está vacío no lo elimina y manda una advertencia"
   ]
  },
  {
   "cell_type": "code",
   "execution_count": null,
   "metadata": {},
   "outputs": [],
   "source": [
    "os.listdir() # Bio2020 ya no est[a]"
   ]
  },
  {
   "cell_type": "code",
   "execution_count": null,
   "metadata": {},
   "outputs": [],
   "source": [
    "if os.path.exists('Bio2020/Descargas') == True:\n",
    "    print('El dicrectorio existe')\n",
    "else:\n",
    "    print('El directorio no existe')"
   ]
  },
  {
   "cell_type": "code",
   "execution_count": null,
   "metadata": {},
   "outputs": [],
   "source": []
  },
  {
   "cell_type": "markdown",
   "metadata": {},
   "source": [
    "# !!!!!  CUIDADO !!!!!\n",
    "### <font color = limegreen>Eliminar directorios sin importar si tiene contenido</font>"
   ]
  },
  {
   "cell_type": "code",
   "execution_count": null,
   "metadata": {
    "scrolled": true
   },
   "outputs": [],
   "source": [
    "#shutil.rmtree('Bio2020/Descargas')"
   ]
  },
  {
   "cell_type": "code",
   "execution_count": null,
   "metadata": {},
   "outputs": [],
   "source": [
    "if os.path.exists('Bio2020/Descargas') == True:\n",
    "    #shutil.rmtree('Bio2020/Descargas') # está desactivado\n",
    "    print('El dicrectorio será borrado')\n",
    "else:\n",
    "    print('El directorio no existe')    "
   ]
  },
  {
   "cell_type": "code",
   "execution_count": null,
   "metadata": {
    "scrolled": true
   },
   "outputs": [],
   "source": []
  },
  {
   "cell_type": "code",
   "execution_count": null,
   "metadata": {},
   "outputs": [],
   "source": []
  },
  {
   "cell_type": "code",
   "execution_count": null,
   "metadata": {},
   "outputs": [],
   "source": []
  },
  {
   "cell_type": "code",
   "execution_count": null,
   "metadata": {},
   "outputs": [],
   "source": []
  },
  {
   "cell_type": "markdown",
   "metadata": {},
   "source": [
    "# <font color = red>Ejercicio:</font>\n",
    "* ### Descarga el archivo de la tarea en el nuevo directorio de Descargas  "
   ]
  },
  {
   "cell_type": "code",
   "execution_count": null,
   "metadata": {},
   "outputs": [],
   "source": []
  },
  {
   "cell_type": "markdown",
   "metadata": {},
   "source": [
    "# <font color = orange>Guarda los cambios de esta bitácora y haz una `copia` en el nuevo directorio Jupyter</font>"
   ]
  },
  {
   "cell_type": "code",
   "execution_count": null,
   "metadata": {},
   "outputs": [],
   "source": []
  },
  {
   "cell_type": "code",
   "execution_count": null,
   "metadata": {},
   "outputs": [],
   "source": []
  }
 ],
 "metadata": {
  "kernelspec": {
   "display_name": "Python 3",
   "language": "python",
   "name": "python3"
  },
  "language_info": {
   "codemirror_mode": {
    "name": "ipython",
    "version": 3
   },
   "file_extension": ".py",
   "mimetype": "text/x-python",
   "name": "python",
   "nbconvert_exporter": "python",
   "pygments_lexer": "ipython3",
   "version": "3.7.5"
  }
 },
 "nbformat": 4,
 "nbformat_minor": 2
}
